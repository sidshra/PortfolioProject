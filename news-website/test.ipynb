{
 "cells": [
  {
   "cell_type": "code",
   "execution_count": 14,
   "metadata": {},
   "outputs": [
    {
     "name": "stdout",
     "output_type": "stream",
     "text": [
      "2024-03-25 20:43:10.180815\n",
      "<class 'str'>\n",
      "N\n"
     ]
    }
   ],
   "source": [
    "from datetime import datetime\n",
    "\n",
    "my_time = str(datetime.now())\n",
    "print(my_time)\n",
    "print(type(my_time))\n",
    "if type(my_time) == \"String\":\n",
    "    print(\"Y\")\n",
    "else:\n",
    "    print(\"N\")    "
   ]
  },
  {
   "cell_type": "code",
   "execution_count": 13,
   "metadata": {},
   "outputs": [
    {
     "name": "stdout",
     "output_type": "stream",
     "text": [
      "2024-03-27\n",
      "<class 'str'>\n"
     ]
    }
   ],
   "source": [
    "import datetime\n",
    "datetime.date.today()\n",
    "current_date = str(datetime.datetime.now().date())\n",
    "print(current_date)\n",
    "print(type(current_date))"
   ]
  },
  {
   "cell_type": "markdown",
   "metadata": {},
   "source": [
    "trus = { \"version\": \"0\", \"id\": \"22a78db9-5a00-46dc-4ecc-2a8d00a59507\", \"detail-type\": \"NewsCreate\", \"source\": \"custom.create-item\", \"account\": \"339712883099\", \"time\": \"2024-03-29T09:00:09Z\", \"region\": \"us-east-1\", \"resources\": [], \"detail\": { \"status\": \"SUCCEEDED\", \"item\": { \"date\": \"2024-03-29\", \"section\": \"Home\", \"content\": \"[[https://a57.foxnews.com/prod-hp.foxnews.com/images/2024/03/720/405/8759b1647baedf54dc0aded56f14b00a.jpg?tl=1&ve=1]]\" } } }\n",
    "\n",
    "\n",
    "print(trus[\"detail\"])\n",
    "\n"
   ]
  },
  {
   "cell_type": "code",
   "execution_count": 3,
   "metadata": {},
   "outputs": [
    {
     "name": "stdout",
     "output_type": "stream",
     "text": [
      "{'version': '0', 'id': 'weewrwe', 'detail': {'status': 'SCS', 'item': {'date': 'ew', 'Ee': 'er'}}}\n",
      "{'status': 'SCS', 'item': {'date': 'ew', 'Ee': 'er'}}\n",
      "{'date': 'ew', 'Ee': 'er'}\n"
     ]
    },
    {
     "ename": "",
     "evalue": "",
     "output_type": "error",
     "traceback": [
      "\u001b[1;31mThe Kernel crashed while executing code in the current cell or a previous cell. \n",
      "\u001b[1;31mPlease review the code in the cell(s) to identify a possible cause of the failure. \n",
      "\u001b[1;31mClick <a href='https://aka.ms/vscodeJupyterKernelCrash'>here</a> for more info. \n",
      "\u001b[1;31mView Jupyter <a href='command:jupyter.viewOutput'>log</a> for further details."
     ]
    }
   ],
   "source": [
    "type_data = {\"version\": \"0\", \"id\": \"weewrwe\", \"detail\": {\"status\": \"SCS\",\"item\": {\"date\":\"ew\",\"Ee\":\"er\"}}\n",
    "             }\n",
    "\n",
    "print(type_data)\n",
    "print(type_data[\"detail\"])\n",
    "print(type_data[\"detail\"][\"item\"])"
   ]
  }
 ],
 "metadata": {
  "kernelspec": {
   "display_name": "Python 3",
   "language": "python",
   "name": "python3"
  },
  "language_info": {
   "codemirror_mode": {
    "name": "ipython",
    "version": 3
   },
   "file_extension": ".py",
   "mimetype": "text/x-python",
   "name": "python",
   "nbconvert_exporter": "python",
   "pygments_lexer": "ipython3",
   "version": "3.12.0"
  }
 },
 "nbformat": 4,
 "nbformat_minor": 2
}
